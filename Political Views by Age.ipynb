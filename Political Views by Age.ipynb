{
 "cells": [
  {
   "cell_type": "code",
   "execution_count": 102,
   "metadata": {},
   "outputs": [],
   "source": [
    "import plotly.graph_objects as go\n",
    "import pandas as pd\n",
    "from datetime import datetime\n",
    "from plotly.subplots import make_subplots\n",
    "import numpy as np"
   ]
  },
  {
   "cell_type": "code",
   "execution_count": 62,
   "metadata": {},
   "outputs": [
    {
     "data": {
      "text/html": [
       "<div>\n",
       "<style scoped>\n",
       "    .dataframe tbody tr th:only-of-type {\n",
       "        vertical-align: middle;\n",
       "    }\n",
       "\n",
       "    .dataframe tbody tr th {\n",
       "        vertical-align: top;\n",
       "    }\n",
       "\n",
       "    .dataframe thead th {\n",
       "        text-align: right;\n",
       "    }\n",
       "</style>\n",
       "<table border=\"1\" class=\"dataframe\">\n",
       "  <thead>\n",
       "    <tr style=\"text-align: right;\">\n",
       "      <th></th>\n",
       "      <th>year</th>\n",
       "      <th>dem</th>\n",
       "      <th>rep</th>\n",
       "      <th>age</th>\n",
       "      <th>dem percent gap</th>\n",
       "    </tr>\n",
       "  </thead>\n",
       "  <tbody>\n",
       "    <tr>\n",
       "      <th>0</th>\n",
       "      <td>1972</td>\n",
       "      <td>0.41</td>\n",
       "      <td>0.49</td>\n",
       "      <td>60+</td>\n",
       "      <td>-0.08</td>\n",
       "    </tr>\n",
       "    <tr>\n",
       "      <th>1</th>\n",
       "      <td>1976</td>\n",
       "      <td>0.45</td>\n",
       "      <td>0.32</td>\n",
       "      <td>60+</td>\n",
       "      <td>0.13</td>\n",
       "    </tr>\n",
       "    <tr>\n",
       "      <th>2</th>\n",
       "      <td>1980</td>\n",
       "      <td>0.46</td>\n",
       "      <td>0.36</td>\n",
       "      <td>60+</td>\n",
       "      <td>0.10</td>\n",
       "    </tr>\n",
       "    <tr>\n",
       "      <th>3</th>\n",
       "      <td>1982</td>\n",
       "      <td>0.50</td>\n",
       "      <td>0.32</td>\n",
       "      <td>60+</td>\n",
       "      <td>0.18</td>\n",
       "    </tr>\n",
       "    <tr>\n",
       "      <th>4</th>\n",
       "      <td>1984</td>\n",
       "      <td>0.40</td>\n",
       "      <td>0.41</td>\n",
       "      <td>60+</td>\n",
       "      <td>-0.01</td>\n",
       "    </tr>\n",
       "    <tr>\n",
       "      <th>5</th>\n",
       "      <td>1986</td>\n",
       "      <td>0.39</td>\n",
       "      <td>0.37</td>\n",
       "      <td>60+</td>\n",
       "      <td>0.02</td>\n",
       "    </tr>\n",
       "    <tr>\n",
       "      <th>6</th>\n",
       "      <td>1988</td>\n",
       "      <td>0.42</td>\n",
       "      <td>0.35</td>\n",
       "      <td>60+</td>\n",
       "      <td>0.07</td>\n",
       "    </tr>\n",
       "    <tr>\n",
       "      <th>7</th>\n",
       "      <td>1990</td>\n",
       "      <td>0.39</td>\n",
       "      <td>0.34</td>\n",
       "      <td>60+</td>\n",
       "      <td>0.05</td>\n",
       "    </tr>\n",
       "    <tr>\n",
       "      <th>8</th>\n",
       "      <td>1992</td>\n",
       "      <td>0.45</td>\n",
       "      <td>0.34</td>\n",
       "      <td>60+</td>\n",
       "      <td>0.11</td>\n",
       "    </tr>\n",
       "    <tr>\n",
       "      <th>9</th>\n",
       "      <td>1994</td>\n",
       "      <td>0.40</td>\n",
       "      <td>0.35</td>\n",
       "      <td>60+</td>\n",
       "      <td>0.05</td>\n",
       "    </tr>\n",
       "    <tr>\n",
       "      <th>10</th>\n",
       "      <td>1996</td>\n",
       "      <td>0.40</td>\n",
       "      <td>0.36</td>\n",
       "      <td>60+</td>\n",
       "      <td>0.04</td>\n",
       "    </tr>\n",
       "    <tr>\n",
       "      <th>11</th>\n",
       "      <td>1998</td>\n",
       "      <td>0.37</td>\n",
       "      <td>0.39</td>\n",
       "      <td>60+</td>\n",
       "      <td>-0.02</td>\n",
       "    </tr>\n",
       "    <tr>\n",
       "      <th>12</th>\n",
       "      <td>2000</td>\n",
       "      <td>0.42</td>\n",
       "      <td>0.35</td>\n",
       "      <td>60+</td>\n",
       "      <td>0.07</td>\n",
       "    </tr>\n",
       "    <tr>\n",
       "      <th>13</th>\n",
       "      <td>2002</td>\n",
       "      <td>0.42</td>\n",
       "      <td>0.38</td>\n",
       "      <td>60+</td>\n",
       "      <td>0.04</td>\n",
       "    </tr>\n",
       "    <tr>\n",
       "      <th>14</th>\n",
       "      <td>2004</td>\n",
       "      <td>0.37</td>\n",
       "      <td>0.39</td>\n",
       "      <td>60+</td>\n",
       "      <td>-0.02</td>\n",
       "    </tr>\n",
       "    <tr>\n",
       "      <th>15</th>\n",
       "      <td>2006</td>\n",
       "      <td>0.36</td>\n",
       "      <td>0.37</td>\n",
       "      <td>60+</td>\n",
       "      <td>-0.01</td>\n",
       "    </tr>\n",
       "    <tr>\n",
       "      <th>16</th>\n",
       "      <td>2008</td>\n",
       "      <td>0.39</td>\n",
       "      <td>0.36</td>\n",
       "      <td>60+</td>\n",
       "      <td>0.03</td>\n",
       "    </tr>\n",
       "    <tr>\n",
       "      <th>17</th>\n",
       "      <td>2012</td>\n",
       "      <td>0.44</td>\n",
       "      <td>0.56</td>\n",
       "      <td>60+</td>\n",
       "      <td>-0.12</td>\n",
       "    </tr>\n",
       "    <tr>\n",
       "      <th>18</th>\n",
       "      <td>2016</td>\n",
       "      <td>0.44</td>\n",
       "      <td>0.53</td>\n",
       "      <td>60+</td>\n",
       "      <td>-0.09</td>\n",
       "    </tr>\n",
       "    <tr>\n",
       "      <th>19</th>\n",
       "      <td>2020</td>\n",
       "      <td>0.48</td>\n",
       "      <td>0.51</td>\n",
       "      <td>60+</td>\n",
       "      <td>-0.03</td>\n",
       "    </tr>\n",
       "  </tbody>\n",
       "</table>\n",
       "</div>"
      ],
      "text/plain": [
       "    year   dem   rep  age  dem percent gap\n",
       "0   1972  0.41  0.49  60+            -0.08\n",
       "1   1976  0.45  0.32  60+             0.13\n",
       "2   1980  0.46  0.36  60+             0.10\n",
       "3   1982  0.50  0.32  60+             0.18\n",
       "4   1984  0.40  0.41  60+            -0.01\n",
       "5   1986  0.39  0.37  60+             0.02\n",
       "6   1988  0.42  0.35  60+             0.07\n",
       "7   1990  0.39  0.34  60+             0.05\n",
       "8   1992  0.45  0.34  60+             0.11\n",
       "9   1994  0.40  0.35  60+             0.05\n",
       "10  1996  0.40  0.36  60+             0.04\n",
       "11  1998  0.37  0.39  60+            -0.02\n",
       "12  2000  0.42  0.35  60+             0.07\n",
       "13  2002  0.42  0.38  60+             0.04\n",
       "14  2004  0.37  0.39  60+            -0.02\n",
       "15  2006  0.36  0.37  60+            -0.01\n",
       "16  2008  0.39  0.36  60+             0.03\n",
       "17  2012  0.44  0.56  60+            -0.12\n",
       "18  2016  0.44  0.53  60+            -0.09\n",
       "19  2020  0.48  0.51  60+            -0.03"
      ]
     },
     "execution_count": 62,
     "metadata": {},
     "output_type": "execute_result"
    }
   ],
   "source": [
    "#create dfs based on sheets within one excel file\n",
    "xls = pd.ExcelFile('/Users/mdawg/Downloads/political_ages.xlsx')\n",
    "df1 = pd.read_excel(xls, 'Sheet1')\n",
    "df2 = pd.read_excel(xls, 'Sheet2')\n",
    "df3 = pd.read_excel(xls, 'Sheet3')\n",
    "df4 = pd.read_excel(xls, 'Sheet4')\n",
    "df4"
   ]
  },
  {
   "cell_type": "code",
   "execution_count": 157,
   "metadata": {
    "scrolled": false
   },
   "outputs": [
    {
     "data": {
      "application/vnd.plotly.v1+json": {
       "config": {
        "plotlyServerURL": "https://plot.ly"
       },
       "data": [
        {
         "line": {
          "color": "Blue",
          "width": 2
         },
         "mode": "lines",
         "name": "dem 18-29",
         "type": "scatter",
         "x": [
          1972,
          1976,
          1980,
          1982,
          1984,
          1986,
          1988,
          1990,
          1992,
          1994,
          1996,
          1998,
          2000,
          2002,
          2004,
          2006,
          2008,
          2012,
          2016,
          2020
         ],
         "y": [
          0.47,
          0.4,
          0.44,
          0.43,
          0.37,
          0.38,
          0.38,
          0.33,
          0.36,
          0.34,
          0.42,
          0.36,
          0.36,
          0.37,
          0.37,
          0.43,
          0.45,
          0.6,
          0.58,
          0.62
         ]
        },
        {
         "line": {
          "color": "slateblue",
          "width": 2
         },
         "mode": "lines",
         "name": "dem 30-44",
         "opacity": 0.2,
         "type": "scatter",
         "x": [
          1972,
          1976,
          1980,
          1982,
          1984,
          1986,
          1988,
          1990,
          1992,
          1994,
          1996,
          1998,
          2000,
          2002,
          2004,
          2006,
          2008,
          2012,
          2016,
          2020
         ],
         "y": [
          0.46,
          0.39,
          0.41,
          0.42,
          0.38,
          0.41,
          0.37,
          0.36,
          0.36,
          0.33,
          0.38,
          0.37,
          0.38,
          0.35,
          0.34,
          0.37,
          0.38,
          0.52,
          0.51,
          0.52
         ]
        },
        {
         "line": {
          "color": "skyblue",
          "width": 2
         },
         "mode": "lines",
         "name": "dem 45-59",
         "opacity": 0.2,
         "type": "scatter",
         "x": [
          1972,
          1976,
          1980,
          1982,
          1984,
          1986,
          1988,
          1990,
          1992,
          1994,
          1996,
          1998,
          2000,
          2002,
          2004,
          2006,
          2008,
          2012,
          2016,
          2020
         ],
         "y": [
          0.48,
          0.42,
          0.47,
          0.47,
          0.39,
          0.4,
          0.36,
          0.36,
          0.37,
          0.36,
          0.39,
          0.39,
          0.38,
          0.37,
          0.38,
          0.37,
          0.37,
          0.47,
          0.45,
          0.5
         ]
        },
        {
         "line": {
          "color": "darkblue",
          "width": 2
         },
         "mode": "lines",
         "name": "dem 60+",
         "opacity": 0.2,
         "type": "scatter",
         "x": [
          1972,
          1976,
          1980,
          1982,
          1984,
          1986,
          1988,
          1990,
          1992,
          1994,
          1996,
          1998,
          2000,
          2002,
          2004,
          2006,
          2008,
          2012,
          2016,
          2020
         ],
         "y": [
          0.41,
          0.45,
          0.46,
          0.5,
          0.4,
          0.39,
          0.42,
          0.39,
          0.45,
          0.4,
          0.4,
          0.37,
          0.42,
          0.42,
          0.37,
          0.36,
          0.39,
          0.44,
          0.44,
          0.48
         ]
        },
        {
         "line": {
          "color": "Red",
          "width": 2
         },
         "mode": "lines",
         "name": "rep 18-29",
         "type": "scatter",
         "x": [
          1972,
          1976,
          1980,
          1982,
          1984,
          1986,
          1988,
          1990,
          1992,
          1994,
          1996,
          1998,
          2000,
          2002,
          2004,
          2006,
          2008,
          2012,
          2016,
          2020
         ],
         "y": [
          0.26,
          0.2,
          0.27,
          0.29,
          0.37,
          0.38,
          0.38,
          0.38,
          0.37,
          0.37,
          0.31,
          0.35,
          0.35,
          0.39,
          0.35,
          0.31,
          0.26,
          0.37,
          0.28,
          0.35
         ]
        },
        {
         "line": {
          "color": "mediumvioletred",
          "width": 2
         },
         "mode": "lines",
         "name": "rep 30-44",
         "opacity": 0.2,
         "type": "scatter",
         "x": [
          1972,
          1976,
          1980,
          1982,
          1984,
          1986,
          1988,
          1990,
          1992,
          1994,
          1996,
          1998,
          2000,
          2002,
          2004,
          2006,
          2008,
          2012,
          2016,
          2020
         ],
         "y": [
          0.33,
          0.24,
          0.28,
          0.3,
          0.32,
          0.31,
          0.34,
          0.32,
          0.35,
          0.37,
          0.37,
          0.36,
          0.36,
          0.43,
          0.4,
          0.37,
          0.32,
          0.45,
          0.4,
          0.45
         ]
        },
        {
         "line": {
          "color": "maroon",
          "width": 2
         },
         "mode": "lines",
         "name": "rep 45-59",
         "opacity": 0.2,
         "type": "scatter",
         "x": [
          1972,
          1976,
          1980,
          1982,
          1984,
          1986,
          1988,
          1990,
          1992,
          1994,
          1996,
          1998,
          2000,
          2002,
          2004,
          2006,
          2008,
          2012,
          2016,
          2020
         ],
         "y": [
          0.36,
          0.28,
          0.3,
          0.3,
          0.34,
          0.34,
          0.35,
          0.33,
          0.33,
          0.33,
          0.33,
          0.3,
          0.33,
          0.38,
          0.35,
          0.35,
          0.33,
          0.51,
          0.51,
          0.49
         ]
        },
        {
         "line": {
          "color": "darkRed",
          "width": 2
         },
         "mode": "lines",
         "name": "rep 60+",
         "opacity": 0.2,
         "type": "scatter",
         "x": [
          1972,
          1976,
          1980,
          1982,
          1984,
          1986,
          1988,
          1990,
          1992,
          1994,
          1996,
          1998,
          2000,
          2002,
          2004,
          2006,
          2008,
          2012,
          2016,
          2020
         ],
         "y": [
          0.49,
          0.32,
          0.36,
          0.32,
          0.41,
          0.37,
          0.35,
          0.34,
          0.34,
          0.35,
          0.36,
          0.39,
          0.35,
          0.38,
          0.39,
          0.37,
          0.36,
          0.56,
          0.53,
          0.51
         ]
        },
        {
         "marker": {
          "color": [
           "darkcyan",
           "darkcyan",
           "darkcyan",
           "darkcyan",
           "darkcyan",
           "darkcyan",
           "darkcyan",
           "darkcyan",
           "darkcyan",
           "darkcyan",
           "darkcyan",
           "darkcyan",
           "darkcyan",
           "darkcyan",
           "darkcyan",
           "darkcyan",
           "darkcyan",
           "darkcyan",
           "darkcyan",
           "darkcyan"
          ]
         },
         "name": "dem percent gap 18-29",
         "opacity": 0.7,
         "type": "bar",
         "x": [
          1972,
          1976,
          1980,
          1982,
          1984,
          1986,
          1988,
          1990,
          1992,
          1994,
          1996,
          1998,
          2000,
          2002,
          2004,
          2006,
          2008,
          2012,
          2016,
          2020
         ],
         "xaxis": "x",
         "y": [
          0.20999999999999996,
          0.2,
          0.16999999999999998,
          0.14,
          0,
          0,
          0,
          -0.04999999999999999,
          -0.010000000000000009,
          -0.02999999999999997,
          0.10999999999999999,
          0.010000000000000009,
          0.010000000000000009,
          -0.020000000000000018,
          0.020000000000000018,
          0.12,
          0.19,
          0.22999999999999998,
          0.29999999999999993,
          0.27
         ],
         "yaxis": "y2"
        },
        {
         "marker": {
          "color": [
           "yellow",
           "yellow",
           "yellow",
           "yellow",
           "yellow",
           "yellow",
           "yellow",
           "yellow",
           "yellow",
           "yellow",
           "yellow",
           "yellow",
           "yellow",
           "yellow",
           "yellow",
           "yellow",
           "yellow",
           "yellow",
           "yellow",
           "yellow"
          ]
         },
         "name": "dem percent gap 30-44",
         "opacity": 0.7,
         "type": "bar",
         "x": [
          1972,
          1976,
          1980,
          1982,
          1984,
          1986,
          1988,
          1990,
          1992,
          1994,
          1996,
          1998,
          2000,
          2002,
          2004,
          2006,
          2008,
          2012,
          2016,
          2020
         ],
         "xaxis": "x",
         "y": [
          0.13,
          0.15000000000000002,
          0.12999999999999995,
          0.12,
          0.06,
          0.09999999999999998,
          0.02999999999999997,
          0.03999999999999998,
          0.010000000000000009,
          -0.03999999999999998,
          0.010000000000000009,
          0.010000000000000009,
          0.020000000000000018,
          -0.08000000000000002,
          -0.06,
          0,
          0.06,
          0.07,
          0.10999999999999999,
          0.07
         ],
         "yaxis": "y2"
        },
        {
         "marker": {
          "color": [
           "black",
           "black",
           "black",
           "black",
           "black",
           "black",
           "black",
           "black",
           "black",
           "black",
           "black",
           "black",
           "black",
           "black",
           "black",
           "black",
           "black",
           "black",
           "black",
           "black"
          ]
         },
         "name": "dem percent gap 45-59",
         "opacity": 0.7,
         "type": "bar",
         "x": [
          1972,
          1976,
          1980,
          1982,
          1984,
          1986,
          1988,
          1990,
          1992,
          1994,
          1996,
          1998,
          2000,
          2002,
          2004,
          2006,
          2008,
          2012,
          2016,
          2020
         ],
         "xaxis": "x",
         "y": [
          0.12,
          0.13999999999999996,
          0.16999999999999998,
          0.16999999999999998,
          0.04999999999999999,
          0.06,
          0.010000000000000009,
          0.02999999999999997,
          0.03999999999999998,
          0.02999999999999997,
          0.06,
          0.09000000000000002,
          0.04999999999999999,
          -0.010000000000000009,
          0.030000000000000027,
          0.020000000000000018,
          0.03999999999999998,
          -0.040000000000000036,
          -0.06,
          0.010000000000000009
         ],
         "yaxis": "y2"
        },
        {
         "marker": {
          "color": [
           "mediumpurple",
           "mediumpurple",
           "mediumpurple",
           "mediumpurple",
           "mediumpurple",
           "mediumpurple",
           "mediumpurple",
           "mediumpurple",
           "mediumpurple",
           "mediumpurple",
           "mediumpurple",
           "mediumpurple",
           "mediumpurple",
           "mediumpurple",
           "mediumpurple",
           "mediumpurple",
           "mediumpurple",
           "mediumpurple",
           "mediumpurple",
           "mediumpurple"
          ]
         },
         "name": "dem percent gap 60+",
         "opacity": 0.7,
         "type": "bar",
         "x": [
          1972,
          1976,
          1980,
          1982,
          1984,
          1986,
          1988,
          1990,
          1992,
          1994,
          1996,
          1998,
          2000,
          2002,
          2004,
          2006,
          2008,
          2012,
          2016,
          2020
         ],
         "xaxis": "x",
         "y": [
          -0.08000000000000002,
          0.13,
          0.10000000000000003,
          0.18,
          -0.009999999999999953,
          0.020000000000000018,
          0.07,
          0.04999999999999999,
          0.10999999999999999,
          0.050000000000000044,
          0.040000000000000036,
          -0.020000000000000018,
          0.07,
          0.03999999999999998,
          -0.020000000000000018,
          -0.010000000000000009,
          0.030000000000000027,
          -0.12000000000000005,
          -0.09000000000000002,
          -0.030000000000000027
         ],
         "yaxis": "y2"
        }
       ],
       "layout": {
        "height": 900,
        "legend": {
         "orientation": "h",
         "x": 0.9,
         "xanchor": "right",
         "y": 1,
         "yanchor": "bottom"
        },
        "template": {
         "data": {
          "bar": [
           {
            "error_x": {
             "color": "#2a3f5f"
            },
            "error_y": {
             "color": "#2a3f5f"
            },
            "marker": {
             "line": {
              "color": "#E5ECF6",
              "width": 0.5
             }
            },
            "type": "bar"
           }
          ],
          "barpolar": [
           {
            "marker": {
             "line": {
              "color": "#E5ECF6",
              "width": 0.5
             }
            },
            "type": "barpolar"
           }
          ],
          "carpet": [
           {
            "aaxis": {
             "endlinecolor": "#2a3f5f",
             "gridcolor": "white",
             "linecolor": "white",
             "minorgridcolor": "white",
             "startlinecolor": "#2a3f5f"
            },
            "baxis": {
             "endlinecolor": "#2a3f5f",
             "gridcolor": "white",
             "linecolor": "white",
             "minorgridcolor": "white",
             "startlinecolor": "#2a3f5f"
            },
            "type": "carpet"
           }
          ],
          "choropleth": [
           {
            "colorbar": {
             "outlinewidth": 0,
             "ticks": ""
            },
            "type": "choropleth"
           }
          ],
          "contour": [
           {
            "colorbar": {
             "outlinewidth": 0,
             "ticks": ""
            },
            "colorscale": [
             [
              0,
              "#0d0887"
             ],
             [
              0.1111111111111111,
              "#46039f"
             ],
             [
              0.2222222222222222,
              "#7201a8"
             ],
             [
              0.3333333333333333,
              "#9c179e"
             ],
             [
              0.4444444444444444,
              "#bd3786"
             ],
             [
              0.5555555555555556,
              "#d8576b"
             ],
             [
              0.6666666666666666,
              "#ed7953"
             ],
             [
              0.7777777777777778,
              "#fb9f3a"
             ],
             [
              0.8888888888888888,
              "#fdca26"
             ],
             [
              1,
              "#f0f921"
             ]
            ],
            "type": "contour"
           }
          ],
          "contourcarpet": [
           {
            "colorbar": {
             "outlinewidth": 0,
             "ticks": ""
            },
            "type": "contourcarpet"
           }
          ],
          "heatmap": [
           {
            "colorbar": {
             "outlinewidth": 0,
             "ticks": ""
            },
            "colorscale": [
             [
              0,
              "#0d0887"
             ],
             [
              0.1111111111111111,
              "#46039f"
             ],
             [
              0.2222222222222222,
              "#7201a8"
             ],
             [
              0.3333333333333333,
              "#9c179e"
             ],
             [
              0.4444444444444444,
              "#bd3786"
             ],
             [
              0.5555555555555556,
              "#d8576b"
             ],
             [
              0.6666666666666666,
              "#ed7953"
             ],
             [
              0.7777777777777778,
              "#fb9f3a"
             ],
             [
              0.8888888888888888,
              "#fdca26"
             ],
             [
              1,
              "#f0f921"
             ]
            ],
            "type": "heatmap"
           }
          ],
          "heatmapgl": [
           {
            "colorbar": {
             "outlinewidth": 0,
             "ticks": ""
            },
            "colorscale": [
             [
              0,
              "#0d0887"
             ],
             [
              0.1111111111111111,
              "#46039f"
             ],
             [
              0.2222222222222222,
              "#7201a8"
             ],
             [
              0.3333333333333333,
              "#9c179e"
             ],
             [
              0.4444444444444444,
              "#bd3786"
             ],
             [
              0.5555555555555556,
              "#d8576b"
             ],
             [
              0.6666666666666666,
              "#ed7953"
             ],
             [
              0.7777777777777778,
              "#fb9f3a"
             ],
             [
              0.8888888888888888,
              "#fdca26"
             ],
             [
              1,
              "#f0f921"
             ]
            ],
            "type": "heatmapgl"
           }
          ],
          "histogram": [
           {
            "marker": {
             "colorbar": {
              "outlinewidth": 0,
              "ticks": ""
             }
            },
            "type": "histogram"
           }
          ],
          "histogram2d": [
           {
            "colorbar": {
             "outlinewidth": 0,
             "ticks": ""
            },
            "colorscale": [
             [
              0,
              "#0d0887"
             ],
             [
              0.1111111111111111,
              "#46039f"
             ],
             [
              0.2222222222222222,
              "#7201a8"
             ],
             [
              0.3333333333333333,
              "#9c179e"
             ],
             [
              0.4444444444444444,
              "#bd3786"
             ],
             [
              0.5555555555555556,
              "#d8576b"
             ],
             [
              0.6666666666666666,
              "#ed7953"
             ],
             [
              0.7777777777777778,
              "#fb9f3a"
             ],
             [
              0.8888888888888888,
              "#fdca26"
             ],
             [
              1,
              "#f0f921"
             ]
            ],
            "type": "histogram2d"
           }
          ],
          "histogram2dcontour": [
           {
            "colorbar": {
             "outlinewidth": 0,
             "ticks": ""
            },
            "colorscale": [
             [
              0,
              "#0d0887"
             ],
             [
              0.1111111111111111,
              "#46039f"
             ],
             [
              0.2222222222222222,
              "#7201a8"
             ],
             [
              0.3333333333333333,
              "#9c179e"
             ],
             [
              0.4444444444444444,
              "#bd3786"
             ],
             [
              0.5555555555555556,
              "#d8576b"
             ],
             [
              0.6666666666666666,
              "#ed7953"
             ],
             [
              0.7777777777777778,
              "#fb9f3a"
             ],
             [
              0.8888888888888888,
              "#fdca26"
             ],
             [
              1,
              "#f0f921"
             ]
            ],
            "type": "histogram2dcontour"
           }
          ],
          "mesh3d": [
           {
            "colorbar": {
             "outlinewidth": 0,
             "ticks": ""
            },
            "type": "mesh3d"
           }
          ],
          "parcoords": [
           {
            "line": {
             "colorbar": {
              "outlinewidth": 0,
              "ticks": ""
             }
            },
            "type": "parcoords"
           }
          ],
          "pie": [
           {
            "automargin": true,
            "type": "pie"
           }
          ],
          "scatter": [
           {
            "marker": {
             "colorbar": {
              "outlinewidth": 0,
              "ticks": ""
             }
            },
            "type": "scatter"
           }
          ],
          "scatter3d": [
           {
            "line": {
             "colorbar": {
              "outlinewidth": 0,
              "ticks": ""
             }
            },
            "marker": {
             "colorbar": {
              "outlinewidth": 0,
              "ticks": ""
             }
            },
            "type": "scatter3d"
           }
          ],
          "scattercarpet": [
           {
            "marker": {
             "colorbar": {
              "outlinewidth": 0,
              "ticks": ""
             }
            },
            "type": "scattercarpet"
           }
          ],
          "scattergeo": [
           {
            "marker": {
             "colorbar": {
              "outlinewidth": 0,
              "ticks": ""
             }
            },
            "type": "scattergeo"
           }
          ],
          "scattergl": [
           {
            "marker": {
             "colorbar": {
              "outlinewidth": 0,
              "ticks": ""
             }
            },
            "type": "scattergl"
           }
          ],
          "scattermapbox": [
           {
            "marker": {
             "colorbar": {
              "outlinewidth": 0,
              "ticks": ""
             }
            },
            "type": "scattermapbox"
           }
          ],
          "scatterpolar": [
           {
            "marker": {
             "colorbar": {
              "outlinewidth": 0,
              "ticks": ""
             }
            },
            "type": "scatterpolar"
           }
          ],
          "scatterpolargl": [
           {
            "marker": {
             "colorbar": {
              "outlinewidth": 0,
              "ticks": ""
             }
            },
            "type": "scatterpolargl"
           }
          ],
          "scatterternary": [
           {
            "marker": {
             "colorbar": {
              "outlinewidth": 0,
              "ticks": ""
             }
            },
            "type": "scatterternary"
           }
          ],
          "surface": [
           {
            "colorbar": {
             "outlinewidth": 0,
             "ticks": ""
            },
            "colorscale": [
             [
              0,
              "#0d0887"
             ],
             [
              0.1111111111111111,
              "#46039f"
             ],
             [
              0.2222222222222222,
              "#7201a8"
             ],
             [
              0.3333333333333333,
              "#9c179e"
             ],
             [
              0.4444444444444444,
              "#bd3786"
             ],
             [
              0.5555555555555556,
              "#d8576b"
             ],
             [
              0.6666666666666666,
              "#ed7953"
             ],
             [
              0.7777777777777778,
              "#fb9f3a"
             ],
             [
              0.8888888888888888,
              "#fdca26"
             ],
             [
              1,
              "#f0f921"
             ]
            ],
            "type": "surface"
           }
          ],
          "table": [
           {
            "cells": {
             "fill": {
              "color": "#EBF0F8"
             },
             "line": {
              "color": "white"
             }
            },
            "header": {
             "fill": {
              "color": "#C8D4E3"
             },
             "line": {
              "color": "white"
             }
            },
            "type": "table"
           }
          ]
         },
         "layout": {
          "annotationdefaults": {
           "arrowcolor": "#2a3f5f",
           "arrowhead": 0,
           "arrowwidth": 1
          },
          "coloraxis": {
           "colorbar": {
            "outlinewidth": 0,
            "ticks": ""
           }
          },
          "colorscale": {
           "diverging": [
            [
             0,
             "#8e0152"
            ],
            [
             0.1,
             "#c51b7d"
            ],
            [
             0.2,
             "#de77ae"
            ],
            [
             0.3,
             "#f1b6da"
            ],
            [
             0.4,
             "#fde0ef"
            ],
            [
             0.5,
             "#f7f7f7"
            ],
            [
             0.6,
             "#e6f5d0"
            ],
            [
             0.7,
             "#b8e186"
            ],
            [
             0.8,
             "#7fbc41"
            ],
            [
             0.9,
             "#4d9221"
            ],
            [
             1,
             "#276419"
            ]
           ],
           "sequential": [
            [
             0,
             "#0d0887"
            ],
            [
             0.1111111111111111,
             "#46039f"
            ],
            [
             0.2222222222222222,
             "#7201a8"
            ],
            [
             0.3333333333333333,
             "#9c179e"
            ],
            [
             0.4444444444444444,
             "#bd3786"
            ],
            [
             0.5555555555555556,
             "#d8576b"
            ],
            [
             0.6666666666666666,
             "#ed7953"
            ],
            [
             0.7777777777777778,
             "#fb9f3a"
            ],
            [
             0.8888888888888888,
             "#fdca26"
            ],
            [
             1,
             "#f0f921"
            ]
           ],
           "sequentialminus": [
            [
             0,
             "#0d0887"
            ],
            [
             0.1111111111111111,
             "#46039f"
            ],
            [
             0.2222222222222222,
             "#7201a8"
            ],
            [
             0.3333333333333333,
             "#9c179e"
            ],
            [
             0.4444444444444444,
             "#bd3786"
            ],
            [
             0.5555555555555556,
             "#d8576b"
            ],
            [
             0.6666666666666666,
             "#ed7953"
            ],
            [
             0.7777777777777778,
             "#fb9f3a"
            ],
            [
             0.8888888888888888,
             "#fdca26"
            ],
            [
             1,
             "#f0f921"
            ]
           ]
          },
          "colorway": [
           "#636efa",
           "#EF553B",
           "#00cc96",
           "#ab63fa",
           "#FFA15A",
           "#19d3f3",
           "#FF6692",
           "#B6E880",
           "#FF97FF",
           "#FECB52"
          ],
          "font": {
           "color": "#2a3f5f"
          },
          "geo": {
           "bgcolor": "white",
           "lakecolor": "white",
           "landcolor": "#E5ECF6",
           "showlakes": true,
           "showland": true,
           "subunitcolor": "white"
          },
          "hoverlabel": {
           "align": "left"
          },
          "hovermode": "closest",
          "mapbox": {
           "style": "light"
          },
          "paper_bgcolor": "white",
          "plot_bgcolor": "#E5ECF6",
          "polar": {
           "angularaxis": {
            "gridcolor": "white",
            "linecolor": "white",
            "ticks": ""
           },
           "bgcolor": "#E5ECF6",
           "radialaxis": {
            "gridcolor": "white",
            "linecolor": "white",
            "ticks": ""
           }
          },
          "scene": {
           "xaxis": {
            "backgroundcolor": "#E5ECF6",
            "gridcolor": "white",
            "gridwidth": 2,
            "linecolor": "white",
            "showbackground": true,
            "ticks": "",
            "zerolinecolor": "white"
           },
           "yaxis": {
            "backgroundcolor": "#E5ECF6",
            "gridcolor": "white",
            "gridwidth": 2,
            "linecolor": "white",
            "showbackground": true,
            "ticks": "",
            "zerolinecolor": "white"
           },
           "zaxis": {
            "backgroundcolor": "#E5ECF6",
            "gridcolor": "white",
            "gridwidth": 2,
            "linecolor": "white",
            "showbackground": true,
            "ticks": "",
            "zerolinecolor": "white"
           }
          },
          "shapedefaults": {
           "line": {
            "color": "#2a3f5f"
           }
          },
          "ternary": {
           "aaxis": {
            "gridcolor": "white",
            "linecolor": "white",
            "ticks": ""
           },
           "baxis": {
            "gridcolor": "white",
            "linecolor": "white",
            "ticks": ""
           },
           "bgcolor": "#E5ECF6",
           "caxis": {
            "gridcolor": "white",
            "linecolor": "white",
            "ticks": ""
           }
          },
          "title": {
           "x": 0.05
          },
          "xaxis": {
           "automargin": true,
           "gridcolor": "white",
           "linecolor": "white",
           "ticks": "",
           "title": {
            "standoff": 15
           },
           "zerolinecolor": "white",
           "zerolinewidth": 2
          },
          "yaxis": {
           "automargin": true,
           "gridcolor": "white",
           "linecolor": "white",
           "ticks": "",
           "title": {
            "standoff": 15
           },
           "zerolinecolor": "white",
           "zerolinewidth": 2
          }
         }
        },
        "title": {
         "text": "<b>Political Views by Age Group</b>",
         "x": 0.455,
         "xanchor": "center",
         "y": 0.865,
         "yanchor": "top"
        },
        "width": 1650,
        "xaxis": {
         "anchor": "y",
         "domain": [
          0,
          0.94
         ],
         "title": {
          "text": "<b>Date</b>"
         }
        },
        "yaxis": {
         "anchor": "x",
         "domain": [
          0,
          1
         ],
         "range": [
          0.05,
          0.7
         ],
         "tickformat": "%",
         "title": {
          "text": "<b>Percent of Party</b>"
         }
        },
        "yaxis2": {
         "anchor": "x",
         "overlaying": "y",
         "range": [
          -0.15,
          2
         ],
         "side": "right",
         "title": {
          "text": "<b>Dem Percent Difference</b>"
         }
        }
       }
      },
      "text/html": [
       "<div>\n",
       "        \n",
       "        \n",
       "            <div id=\"f6738845-733c-4db0-a070-bc1b5eb2662a\" class=\"plotly-graph-div\" style=\"height:900px; width:1650px;\"></div>\n",
       "            <script type=\"text/javascript\">\n",
       "                require([\"plotly\"], function(Plotly) {\n",
       "                    window.PLOTLYENV=window.PLOTLYENV || {};\n",
       "                    \n",
       "                if (document.getElementById(\"f6738845-733c-4db0-a070-bc1b5eb2662a\")) {\n",
       "                    Plotly.newPlot(\n",
       "                        'f6738845-733c-4db0-a070-bc1b5eb2662a',\n",
       "                        [{\"line\": {\"color\": \"Blue\", \"width\": 2}, \"mode\": \"lines\", \"name\": \"dem 18-29\", \"type\": \"scatter\", \"x\": [1972, 1976, 1980, 1982, 1984, 1986, 1988, 1990, 1992, 1994, 1996, 1998, 2000, 2002, 2004, 2006, 2008, 2012, 2016, 2020], \"y\": [0.47, 0.4, 0.44, 0.43, 0.37, 0.38, 0.38, 0.33, 0.36, 0.34, 0.42, 0.36, 0.36, 0.37, 0.37, 0.43, 0.45, 0.6, 0.58, 0.62]}, {\"line\": {\"color\": \"slateblue\", \"width\": 2}, \"mode\": \"lines\", \"name\": \"dem 30-44\", \"opacity\": 0.2, \"type\": \"scatter\", \"x\": [1972, 1976, 1980, 1982, 1984, 1986, 1988, 1990, 1992, 1994, 1996, 1998, 2000, 2002, 2004, 2006, 2008, 2012, 2016, 2020], \"y\": [0.46, 0.39, 0.41, 0.42, 0.38, 0.41, 0.37, 0.36, 0.36, 0.33, 0.38, 0.37, 0.38, 0.35, 0.34, 0.37, 0.38, 0.52, 0.51, 0.52]}, {\"line\": {\"color\": \"skyblue\", \"width\": 2}, \"mode\": \"lines\", \"name\": \"dem 45-59\", \"opacity\": 0.2, \"type\": \"scatter\", \"x\": [1972, 1976, 1980, 1982, 1984, 1986, 1988, 1990, 1992, 1994, 1996, 1998, 2000, 2002, 2004, 2006, 2008, 2012, 2016, 2020], \"y\": [0.48, 0.42, 0.47, 0.47, 0.39, 0.4, 0.36, 0.36, 0.37, 0.36, 0.39, 0.39, 0.38, 0.37, 0.38, 0.37, 0.37, 0.47, 0.45, 0.5]}, {\"line\": {\"color\": \"darkblue\", \"width\": 2}, \"mode\": \"lines\", \"name\": \"dem 60+\", \"opacity\": 0.2, \"type\": \"scatter\", \"x\": [1972, 1976, 1980, 1982, 1984, 1986, 1988, 1990, 1992, 1994, 1996, 1998, 2000, 2002, 2004, 2006, 2008, 2012, 2016, 2020], \"y\": [0.41, 0.45, 0.46, 0.5, 0.4, 0.39, 0.42, 0.39, 0.45, 0.4, 0.4, 0.37, 0.42, 0.42, 0.37, 0.36, 0.39, 0.44, 0.44, 0.48]}, {\"line\": {\"color\": \"Red\", \"width\": 2}, \"mode\": \"lines\", \"name\": \"rep 18-29\", \"type\": \"scatter\", \"x\": [1972, 1976, 1980, 1982, 1984, 1986, 1988, 1990, 1992, 1994, 1996, 1998, 2000, 2002, 2004, 2006, 2008, 2012, 2016, 2020], \"y\": [0.26, 0.2, 0.27, 0.29, 0.37, 0.38, 0.38, 0.38, 0.37, 0.37, 0.31, 0.35, 0.35, 0.39, 0.35, 0.31, 0.26, 0.37, 0.28, 0.35]}, {\"line\": {\"color\": \"mediumvioletred\", \"width\": 2}, \"mode\": \"lines\", \"name\": \"rep 30-44\", \"opacity\": 0.2, \"type\": \"scatter\", \"x\": [1972, 1976, 1980, 1982, 1984, 1986, 1988, 1990, 1992, 1994, 1996, 1998, 2000, 2002, 2004, 2006, 2008, 2012, 2016, 2020], \"y\": [0.33, 0.24, 0.28, 0.3, 0.32, 0.31, 0.34, 0.32, 0.35, 0.37, 0.37, 0.36, 0.36, 0.43, 0.4, 0.37, 0.32, 0.45, 0.4, 0.45]}, {\"line\": {\"color\": \"maroon\", \"width\": 2}, \"mode\": \"lines\", \"name\": \"rep 45-59\", \"opacity\": 0.2, \"type\": \"scatter\", \"x\": [1972, 1976, 1980, 1982, 1984, 1986, 1988, 1990, 1992, 1994, 1996, 1998, 2000, 2002, 2004, 2006, 2008, 2012, 2016, 2020], \"y\": [0.36, 0.28, 0.3, 0.3, 0.34, 0.34, 0.35, 0.33, 0.33, 0.33, 0.33, 0.3, 0.33, 0.38, 0.35, 0.35, 0.33, 0.51, 0.51, 0.49]}, {\"line\": {\"color\": \"darkRed\", \"width\": 2}, \"mode\": \"lines\", \"name\": \"rep 60+\", \"opacity\": 0.2, \"type\": \"scatter\", \"x\": [1972, 1976, 1980, 1982, 1984, 1986, 1988, 1990, 1992, 1994, 1996, 1998, 2000, 2002, 2004, 2006, 2008, 2012, 2016, 2020], \"y\": [0.49, 0.32, 0.36, 0.32, 0.41, 0.37, 0.35, 0.34, 0.34, 0.35, 0.36, 0.39, 0.35, 0.38, 0.39, 0.37, 0.36, 0.56, 0.53, 0.51]}, {\"marker\": {\"color\": [\"darkcyan\", \"darkcyan\", \"darkcyan\", \"darkcyan\", \"darkcyan\", \"darkcyan\", \"darkcyan\", \"darkcyan\", \"darkcyan\", \"darkcyan\", \"darkcyan\", \"darkcyan\", \"darkcyan\", \"darkcyan\", \"darkcyan\", \"darkcyan\", \"darkcyan\", \"darkcyan\", \"darkcyan\", \"darkcyan\"]}, \"name\": \"dem percent gap 18-29\", \"opacity\": 0.7, \"type\": \"bar\", \"x\": [1972, 1976, 1980, 1982, 1984, 1986, 1988, 1990, 1992, 1994, 1996, 1998, 2000, 2002, 2004, 2006, 2008, 2012, 2016, 2020], \"xaxis\": \"x\", \"y\": [0.20999999999999996, 0.2, 0.16999999999999998, 0.14, 0.0, 0.0, 0.0, -0.04999999999999999, -0.010000000000000009, -0.02999999999999997, 0.10999999999999999, 0.010000000000000009, 0.010000000000000009, -0.020000000000000018, 0.020000000000000018, 0.12, 0.19, 0.22999999999999998, 0.29999999999999993, 0.27], \"yaxis\": \"y2\"}, {\"marker\": {\"color\": [\"yellow\", \"yellow\", \"yellow\", \"yellow\", \"yellow\", \"yellow\", \"yellow\", \"yellow\", \"yellow\", \"yellow\", \"yellow\", \"yellow\", \"yellow\", \"yellow\", \"yellow\", \"yellow\", \"yellow\", \"yellow\", \"yellow\", \"yellow\"]}, \"name\": \"dem percent gap 30-44\", \"opacity\": 0.7, \"type\": \"bar\", \"x\": [1972, 1976, 1980, 1982, 1984, 1986, 1988, 1990, 1992, 1994, 1996, 1998, 2000, 2002, 2004, 2006, 2008, 2012, 2016, 2020], \"xaxis\": \"x\", \"y\": [0.13, 0.15000000000000002, 0.12999999999999995, 0.12, 0.06, 0.09999999999999998, 0.02999999999999997, 0.03999999999999998, 0.010000000000000009, -0.03999999999999998, 0.010000000000000009, 0.010000000000000009, 0.020000000000000018, -0.08000000000000002, -0.06, 0.0, 0.06, 0.07, 0.10999999999999999, 0.07], \"yaxis\": \"y2\"}, {\"marker\": {\"color\": [\"black\", \"black\", \"black\", \"black\", \"black\", \"black\", \"black\", \"black\", \"black\", \"black\", \"black\", \"black\", \"black\", \"black\", \"black\", \"black\", \"black\", \"black\", \"black\", \"black\"]}, \"name\": \"dem percent gap 45-59\", \"opacity\": 0.7, \"type\": \"bar\", \"x\": [1972, 1976, 1980, 1982, 1984, 1986, 1988, 1990, 1992, 1994, 1996, 1998, 2000, 2002, 2004, 2006, 2008, 2012, 2016, 2020], \"xaxis\": \"x\", \"y\": [0.12, 0.13999999999999996, 0.16999999999999998, 0.16999999999999998, 0.04999999999999999, 0.06, 0.010000000000000009, 0.02999999999999997, 0.03999999999999998, 0.02999999999999997, 0.06, 0.09000000000000002, 0.04999999999999999, -0.010000000000000009, 0.030000000000000027, 0.020000000000000018, 0.03999999999999998, -0.040000000000000036, -0.06, 0.010000000000000009], \"yaxis\": \"y2\"}, {\"marker\": {\"color\": [\"mediumpurple\", \"mediumpurple\", \"mediumpurple\", \"mediumpurple\", \"mediumpurple\", \"mediumpurple\", \"mediumpurple\", \"mediumpurple\", \"mediumpurple\", \"mediumpurple\", \"mediumpurple\", \"mediumpurple\", \"mediumpurple\", \"mediumpurple\", \"mediumpurple\", \"mediumpurple\", \"mediumpurple\", \"mediumpurple\", \"mediumpurple\", \"mediumpurple\"]}, \"name\": \"dem percent gap 60+\", \"opacity\": 0.7, \"type\": \"bar\", \"x\": [1972, 1976, 1980, 1982, 1984, 1986, 1988, 1990, 1992, 1994, 1996, 1998, 2000, 2002, 2004, 2006, 2008, 2012, 2016, 2020], \"xaxis\": \"x\", \"y\": [-0.08000000000000002, 0.13, 0.10000000000000003, 0.18, -0.009999999999999953, 0.020000000000000018, 0.07, 0.04999999999999999, 0.10999999999999999, 0.050000000000000044, 0.040000000000000036, -0.020000000000000018, 0.07, 0.03999999999999998, -0.020000000000000018, -0.010000000000000009, 0.030000000000000027, -0.12000000000000005, -0.09000000000000002, -0.030000000000000027], \"yaxis\": \"y2\"}],\n",
       "                        {\"height\": 900, \"legend\": {\"orientation\": \"h\", \"x\": 0.9, \"xanchor\": \"right\", \"y\": 1, \"yanchor\": \"bottom\"}, \"template\": {\"data\": {\"bar\": [{\"error_x\": {\"color\": \"#2a3f5f\"}, \"error_y\": {\"color\": \"#2a3f5f\"}, \"marker\": {\"line\": {\"color\": \"#E5ECF6\", \"width\": 0.5}}, \"type\": \"bar\"}], \"barpolar\": [{\"marker\": {\"line\": {\"color\": \"#E5ECF6\", \"width\": 0.5}}, \"type\": \"barpolar\"}], \"carpet\": [{\"aaxis\": {\"endlinecolor\": \"#2a3f5f\", \"gridcolor\": \"white\", \"linecolor\": \"white\", \"minorgridcolor\": \"white\", \"startlinecolor\": \"#2a3f5f\"}, \"baxis\": {\"endlinecolor\": \"#2a3f5f\", \"gridcolor\": \"white\", \"linecolor\": \"white\", \"minorgridcolor\": \"white\", \"startlinecolor\": \"#2a3f5f\"}, \"type\": \"carpet\"}], \"choropleth\": [{\"colorbar\": {\"outlinewidth\": 0, \"ticks\": \"\"}, \"type\": \"choropleth\"}], \"contour\": [{\"colorbar\": {\"outlinewidth\": 0, \"ticks\": \"\"}, \"colorscale\": [[0.0, \"#0d0887\"], [0.1111111111111111, \"#46039f\"], [0.2222222222222222, \"#7201a8\"], [0.3333333333333333, \"#9c179e\"], [0.4444444444444444, \"#bd3786\"], [0.5555555555555556, \"#d8576b\"], [0.6666666666666666, \"#ed7953\"], [0.7777777777777778, \"#fb9f3a\"], [0.8888888888888888, \"#fdca26\"], [1.0, \"#f0f921\"]], \"type\": \"contour\"}], \"contourcarpet\": [{\"colorbar\": {\"outlinewidth\": 0, \"ticks\": \"\"}, \"type\": \"contourcarpet\"}], \"heatmap\": [{\"colorbar\": {\"outlinewidth\": 0, \"ticks\": \"\"}, \"colorscale\": [[0.0, \"#0d0887\"], [0.1111111111111111, \"#46039f\"], [0.2222222222222222, \"#7201a8\"], [0.3333333333333333, \"#9c179e\"], [0.4444444444444444, \"#bd3786\"], [0.5555555555555556, \"#d8576b\"], [0.6666666666666666, \"#ed7953\"], [0.7777777777777778, \"#fb9f3a\"], [0.8888888888888888, \"#fdca26\"], [1.0, \"#f0f921\"]], \"type\": \"heatmap\"}], \"heatmapgl\": [{\"colorbar\": {\"outlinewidth\": 0, \"ticks\": \"\"}, \"colorscale\": [[0.0, \"#0d0887\"], [0.1111111111111111, \"#46039f\"], [0.2222222222222222, \"#7201a8\"], [0.3333333333333333, \"#9c179e\"], [0.4444444444444444, \"#bd3786\"], [0.5555555555555556, \"#d8576b\"], [0.6666666666666666, \"#ed7953\"], [0.7777777777777778, \"#fb9f3a\"], [0.8888888888888888, \"#fdca26\"], [1.0, \"#f0f921\"]], \"type\": \"heatmapgl\"}], \"histogram\": [{\"marker\": {\"colorbar\": {\"outlinewidth\": 0, \"ticks\": \"\"}}, \"type\": \"histogram\"}], \"histogram2d\": [{\"colorbar\": {\"outlinewidth\": 0, \"ticks\": \"\"}, \"colorscale\": [[0.0, \"#0d0887\"], [0.1111111111111111, \"#46039f\"], [0.2222222222222222, \"#7201a8\"], [0.3333333333333333, \"#9c179e\"], [0.4444444444444444, \"#bd3786\"], [0.5555555555555556, \"#d8576b\"], [0.6666666666666666, \"#ed7953\"], [0.7777777777777778, \"#fb9f3a\"], [0.8888888888888888, \"#fdca26\"], [1.0, \"#f0f921\"]], \"type\": \"histogram2d\"}], \"histogram2dcontour\": [{\"colorbar\": {\"outlinewidth\": 0, \"ticks\": \"\"}, \"colorscale\": [[0.0, \"#0d0887\"], [0.1111111111111111, \"#46039f\"], [0.2222222222222222, \"#7201a8\"], [0.3333333333333333, \"#9c179e\"], [0.4444444444444444, \"#bd3786\"], [0.5555555555555556, \"#d8576b\"], [0.6666666666666666, \"#ed7953\"], [0.7777777777777778, \"#fb9f3a\"], [0.8888888888888888, \"#fdca26\"], [1.0, \"#f0f921\"]], \"type\": \"histogram2dcontour\"}], \"mesh3d\": [{\"colorbar\": {\"outlinewidth\": 0, \"ticks\": \"\"}, \"type\": \"mesh3d\"}], \"parcoords\": [{\"line\": {\"colorbar\": {\"outlinewidth\": 0, \"ticks\": \"\"}}, \"type\": \"parcoords\"}], \"pie\": [{\"automargin\": true, \"type\": \"pie\"}], \"scatter\": [{\"marker\": {\"colorbar\": {\"outlinewidth\": 0, \"ticks\": \"\"}}, \"type\": \"scatter\"}], \"scatter3d\": [{\"line\": {\"colorbar\": {\"outlinewidth\": 0, \"ticks\": \"\"}}, \"marker\": {\"colorbar\": {\"outlinewidth\": 0, \"ticks\": \"\"}}, \"type\": \"scatter3d\"}], \"scattercarpet\": [{\"marker\": {\"colorbar\": {\"outlinewidth\": 0, \"ticks\": \"\"}}, \"type\": \"scattercarpet\"}], \"scattergeo\": [{\"marker\": {\"colorbar\": {\"outlinewidth\": 0, \"ticks\": \"\"}}, \"type\": \"scattergeo\"}], \"scattergl\": [{\"marker\": {\"colorbar\": {\"outlinewidth\": 0, \"ticks\": \"\"}}, \"type\": \"scattergl\"}], \"scattermapbox\": [{\"marker\": {\"colorbar\": {\"outlinewidth\": 0, \"ticks\": \"\"}}, \"type\": \"scattermapbox\"}], \"scatterpolar\": [{\"marker\": {\"colorbar\": {\"outlinewidth\": 0, \"ticks\": \"\"}}, \"type\": \"scatterpolar\"}], \"scatterpolargl\": [{\"marker\": {\"colorbar\": {\"outlinewidth\": 0, \"ticks\": \"\"}}, \"type\": \"scatterpolargl\"}], \"scatterternary\": [{\"marker\": {\"colorbar\": {\"outlinewidth\": 0, \"ticks\": \"\"}}, \"type\": \"scatterternary\"}], \"surface\": [{\"colorbar\": {\"outlinewidth\": 0, \"ticks\": \"\"}, \"colorscale\": [[0.0, \"#0d0887\"], [0.1111111111111111, \"#46039f\"], [0.2222222222222222, \"#7201a8\"], [0.3333333333333333, \"#9c179e\"], [0.4444444444444444, \"#bd3786\"], [0.5555555555555556, \"#d8576b\"], [0.6666666666666666, \"#ed7953\"], [0.7777777777777778, \"#fb9f3a\"], [0.8888888888888888, \"#fdca26\"], [1.0, \"#f0f921\"]], \"type\": \"surface\"}], \"table\": [{\"cells\": {\"fill\": {\"color\": \"#EBF0F8\"}, \"line\": {\"color\": \"white\"}}, \"header\": {\"fill\": {\"color\": \"#C8D4E3\"}, \"line\": {\"color\": \"white\"}}, \"type\": \"table\"}]}, \"layout\": {\"annotationdefaults\": {\"arrowcolor\": \"#2a3f5f\", \"arrowhead\": 0, \"arrowwidth\": 1}, \"coloraxis\": {\"colorbar\": {\"outlinewidth\": 0, \"ticks\": \"\"}}, \"colorscale\": {\"diverging\": [[0, \"#8e0152\"], [0.1, \"#c51b7d\"], [0.2, \"#de77ae\"], [0.3, \"#f1b6da\"], [0.4, \"#fde0ef\"], [0.5, \"#f7f7f7\"], [0.6, \"#e6f5d0\"], [0.7, \"#b8e186\"], [0.8, \"#7fbc41\"], [0.9, \"#4d9221\"], [1, \"#276419\"]], \"sequential\": [[0.0, \"#0d0887\"], [0.1111111111111111, \"#46039f\"], [0.2222222222222222, \"#7201a8\"], [0.3333333333333333, \"#9c179e\"], [0.4444444444444444, \"#bd3786\"], [0.5555555555555556, \"#d8576b\"], [0.6666666666666666, \"#ed7953\"], [0.7777777777777778, \"#fb9f3a\"], [0.8888888888888888, \"#fdca26\"], [1.0, \"#f0f921\"]], \"sequentialminus\": [[0.0, \"#0d0887\"], [0.1111111111111111, \"#46039f\"], [0.2222222222222222, \"#7201a8\"], [0.3333333333333333, \"#9c179e\"], [0.4444444444444444, \"#bd3786\"], [0.5555555555555556, \"#d8576b\"], [0.6666666666666666, \"#ed7953\"], [0.7777777777777778, \"#fb9f3a\"], [0.8888888888888888, \"#fdca26\"], [1.0, \"#f0f921\"]]}, \"colorway\": [\"#636efa\", \"#EF553B\", \"#00cc96\", \"#ab63fa\", \"#FFA15A\", \"#19d3f3\", \"#FF6692\", \"#B6E880\", \"#FF97FF\", \"#FECB52\"], \"font\": {\"color\": \"#2a3f5f\"}, \"geo\": {\"bgcolor\": \"white\", \"lakecolor\": \"white\", \"landcolor\": \"#E5ECF6\", \"showlakes\": true, \"showland\": true, \"subunitcolor\": \"white\"}, \"hoverlabel\": {\"align\": \"left\"}, \"hovermode\": \"closest\", \"mapbox\": {\"style\": \"light\"}, \"paper_bgcolor\": \"white\", \"plot_bgcolor\": \"#E5ECF6\", \"polar\": {\"angularaxis\": {\"gridcolor\": \"white\", \"linecolor\": \"white\", \"ticks\": \"\"}, \"bgcolor\": \"#E5ECF6\", \"radialaxis\": {\"gridcolor\": \"white\", \"linecolor\": \"white\", \"ticks\": \"\"}}, \"scene\": {\"xaxis\": {\"backgroundcolor\": \"#E5ECF6\", \"gridcolor\": \"white\", \"gridwidth\": 2, \"linecolor\": \"white\", \"showbackground\": true, \"ticks\": \"\", \"zerolinecolor\": \"white\"}, \"yaxis\": {\"backgroundcolor\": \"#E5ECF6\", \"gridcolor\": \"white\", \"gridwidth\": 2, \"linecolor\": \"white\", \"showbackground\": true, \"ticks\": \"\", \"zerolinecolor\": \"white\"}, \"zaxis\": {\"backgroundcolor\": \"#E5ECF6\", \"gridcolor\": \"white\", \"gridwidth\": 2, \"linecolor\": \"white\", \"showbackground\": true, \"ticks\": \"\", \"zerolinecolor\": \"white\"}}, \"shapedefaults\": {\"line\": {\"color\": \"#2a3f5f\"}}, \"ternary\": {\"aaxis\": {\"gridcolor\": \"white\", \"linecolor\": \"white\", \"ticks\": \"\"}, \"baxis\": {\"gridcolor\": \"white\", \"linecolor\": \"white\", \"ticks\": \"\"}, \"bgcolor\": \"#E5ECF6\", \"caxis\": {\"gridcolor\": \"white\", \"linecolor\": \"white\", \"ticks\": \"\"}}, \"title\": {\"x\": 0.05}, \"xaxis\": {\"automargin\": true, \"gridcolor\": \"white\", \"linecolor\": \"white\", \"ticks\": \"\", \"title\": {\"standoff\": 15}, \"zerolinecolor\": \"white\", \"zerolinewidth\": 2}, \"yaxis\": {\"automargin\": true, \"gridcolor\": \"white\", \"linecolor\": \"white\", \"ticks\": \"\", \"title\": {\"standoff\": 15}, \"zerolinecolor\": \"white\", \"zerolinewidth\": 2}}}, \"title\": {\"text\": \"<b>Political Views by Age Group</b>\", \"x\": 0.455, \"xanchor\": \"center\", \"y\": 0.865, \"yanchor\": \"top\"}, \"width\": 1650, \"xaxis\": {\"anchor\": \"y\", \"domain\": [0.0, 0.94], \"title\": {\"text\": \"<b>Date</b>\"}}, \"yaxis\": {\"anchor\": \"x\", \"domain\": [0.0, 1.0], \"range\": [0.05, 0.7], \"tickformat\": \"%\", \"title\": {\"text\": \"<b>Percent of Party</b>\"}}, \"yaxis2\": {\"anchor\": \"x\", \"overlaying\": \"y\", \"range\": [-0.15, 2], \"side\": \"right\", \"title\": {\"text\": \"<b>Dem Percent Difference</b>\"}}},\n",
       "                        {\"responsive\": true}\n",
       "                    ).then(function(){\n",
       "                            \n",
       "var gd = document.getElementById('f6738845-733c-4db0-a070-bc1b5eb2662a');\n",
       "var x = new MutationObserver(function (mutations, observer) {{\n",
       "        var display = window.getComputedStyle(gd).display;\n",
       "        if (!display || display === 'none') {{\n",
       "            console.log([gd, 'removed!']);\n",
       "            Plotly.purge(gd);\n",
       "            observer.disconnect();\n",
       "        }}\n",
       "}});\n",
       "\n",
       "// Listen for the removal of the full notebook cells\n",
       "var notebookContainer = gd.closest('#notebook-container');\n",
       "if (notebookContainer) {{\n",
       "    x.observe(notebookContainer, {childList: true});\n",
       "}}\n",
       "\n",
       "// Listen for the clearing of the current output cell\n",
       "var outputEl = gd.closest('.output');\n",
       "if (outputEl) {{\n",
       "    x.observe(outputEl, {childList: true});\n",
       "}}\n",
       "\n",
       "                        })\n",
       "                };\n",
       "                });\n",
       "            </script>\n",
       "        </div>"
      ]
     },
     "metadata": {},
     "output_type": "display_data"
    }
   ],
   "source": [
    "#add color column if you want to change negative values to red\n",
    "#change the first color parameter to red or whatever color for negative values\n",
    "#i chose not to use this for now\n",
    "df1[\"Color\"] = np.where(df1[\"dem percent gap\"]<0, 'darkcyan', 'darkcyan')\n",
    "df2[\"Color\"] = np.where(df2[\"dem percent gap\"]<0, 'yellow', 'yellow')\n",
    "df3[\"Color\"] = np.where(df3[\"dem percent gap\"]<0, 'black', 'black')\n",
    "df4[\"Color\"] = np.where(df4[\"dem percent gap\"]<0, 'mediumpurple', 'mediumpurple')\n",
    "\n",
    "# Create figure with secondary y-axis\n",
    "fig = make_subplots(specs=[[{\"secondary_y\": True}]])\n",
    "\n",
    "#create lines/traces\n",
    "fig.add_trace(go.Scatter(x=df1['year'], y=df1['dem'],\n",
    "                    mode='lines',\n",
    "                    name='dem 18-29',\n",
    "                    line=dict(color=\"Blue\", width=2),))\n",
    "fig.add_trace(go.Scatter(x=df2['year'], y=df2['dem'],\n",
    "                    mode='lines',\n",
    "                    name='dem 30-44',\n",
    "                    opacity=.2,\n",
    "                    line=dict(color=\"slateblue\", width=2),))\n",
    "fig.add_trace(go.Scatter(x=df3['year'], y=df3['dem'],\n",
    "                    mode='lines',\n",
    "                    name='dem 45-59',\n",
    "                    opacity=.2,\n",
    "                    line=dict(color=\"skyblue\", width=2),))\n",
    "fig.add_trace(go.Scatter(x=df4['year'], y=df4['dem'],\n",
    "                    mode='lines',\n",
    "                    name='dem 60+',\n",
    "                    opacity=.2,\n",
    "                    line=dict(color=\"darkblue\", width=2),))\n",
    "\n",
    "fig.add_trace(go.Scatter(x=df1['year'], y=df1['rep'],\n",
    "                    mode='lines',\n",
    "                    name='rep 18-29',\n",
    "                    line=dict(color=\"Red\", width=2),))\n",
    "fig.add_trace(go.Scatter(x=df2['year'], y=df2['rep'],\n",
    "                    mode='lines',\n",
    "                    name='rep 30-44',\n",
    "                    opacity=.2,\n",
    "                    line=dict(color=\"mediumvioletred\", width=2),))\n",
    "fig.add_trace(go.Scatter(x=df3['year'], y=df3['rep'],\n",
    "                    mode='lines',\n",
    "                    name='rep 45-59',\n",
    "                    opacity=.2,\n",
    "                    line=dict(color=\"maroon\", width=2),))\n",
    "fig.add_trace(go.Scatter(x=df4['year'], y=df4['rep'],\n",
    "                    mode='lines',\n",
    "                    name='rep 60+',\n",
    "                    opacity=.2, \n",
    "                    line=dict(color=\"darkRed\", width=2),))\n",
    "\n",
    "fig.add_trace(go.Bar(x=df1['year'], y=df1['dem percent gap']\n",
    "                    , opacity=.7\n",
    "                    , marker_color=df1['Color']\n",
    "                    , name='dem percent gap 18-29',),secondary_y=True)\n",
    "#                     bar=dict(color=\"green\", width=1),),secondary_y=True)\n",
    "fig.add_trace(go.Bar(x=df2['year'], y=df2['dem percent gap']\n",
    "                    , opacity=.7\n",
    "                    , marker_color=df2['Color']\n",
    "                    , name='dem percent gap 30-44',),secondary_y=True)\n",
    "#                     bar=dict(color=\"teal\", width=1),),secondary_y=True)\n",
    "fig.add_trace(go.Bar(x=df3['year'], y=df3['dem percent gap']\n",
    "                    , opacity=.7\n",
    "                    , marker_color=df3['Color']\n",
    "                    , name='dem percent gap 45-59',),secondary_y=True)\n",
    "#                     bar=dict(color=\"limegreen\", width=1),),secondary_y=True)\n",
    "fig.add_trace(go.Bar(x=df4['year'], y=df4['dem percent gap']\n",
    "                    , opacity=.7\n",
    "                    , marker_color=df4['Color']\n",
    "                    , name='dem percent gap 60+',),secondary_y=True)\n",
    "#                     bar=dict(color=\"darkgreen\", width=1),),secondary_y=True)\n",
    "\n",
    "#update layout\n",
    "fig.update_layout(title=\"<b>Political Views by Age Group</b>\"\n",
    "                 , height = 900\n",
    "                 , width = 1650\n",
    "                 , xaxis_title='<b>Date</b>'\n",
    "                 , yaxis_title='Percentage'\n",
    "                 , template = \"plotly\" #['ggplot2', 'seaborn', 'simple_white', 'plotly', 'plotly_white', 'plotly_dark']\n",
    "                 )\n",
    "\n",
    "# fig.update_layout(barmode='stack')\n",
    "\n",
    "fig.update_yaxes(title_text=\"<b>Dem Percent Difference</b>\"\n",
    "                , range=[-.15,2]\n",
    "#                 , tickformat = \"%\"\n",
    "                , secondary_y=True\n",
    "                )\n",
    "\n",
    "fig.update_yaxes(title_text=\"<b>Percent of Party</b>\"\n",
    "                , range=[0.05,.7]\n",
    "                , tickformat = \"%\"\n",
    "                , secondary_y=False\n",
    "                )\n",
    "\n",
    "#update legend\n",
    "fig.update_layout(\n",
    "    legend=dict(\n",
    "        orientation=\"h\",\n",
    "        yanchor=\"bottom\",\n",
    "        y=1,\n",
    "        xanchor=\"right\",\n",
    "        x=.9)\n",
    "    , title={\n",
    "        'y':.865,\n",
    "        'x':0.455,\n",
    "        'xanchor': 'center',\n",
    "        'yanchor': 'top'}\n",
    ")\n",
    "\n",
    "fig.show()"
   ]
  },
  {
   "cell_type": "code",
   "execution_count": null,
   "metadata": {},
   "outputs": [],
   "source": [
    "            aliceblue, antiquewhite, aqua, aquamarine, azure,\n",
    "            beige, bisque, black, blanchedalmond, blue,\n",
    "            blueviolet, brown, burlywood, cadetblue,\n",
    "            chartreuse, chocolate, coral, cornflowerblue,\n",
    "            cornsilk, crimson, cyan, darkblue, darkcyan,\n",
    "            darkgoldenrod, darkgray, darkgrey, darkgreen,\n",
    "            darkkhaki, darkmagenta, darkolivegreen, darkorange,\n",
    "            darkorchid, darkred, darksalmon, darkseagreen,\n",
    "            darkslateblue, darkslategray, darkslategrey,\n",
    "            darkturquoise, darkviolet, deeppink, deepskyblue,\n",
    "            dimgray, dimgrey, dodgerblue, firebrick,\n",
    "            floralwhite, forestgreen, fuchsia, gainsboro,\n",
    "            ghostwhite, gold, goldenrod, gray, grey, green,\n",
    "            greenyellow, honeydew, hotpink, indianred, indigo,\n",
    "            ivory, khaki, lavender, lavenderblush, lawngreen,\n",
    "            lemonchiffon, lightblue, lightcoral, lightcyan,\n",
    "            lightgoldenrodyellow, lightgray, lightgrey,\n",
    "            lightgreen, lightpink, lightsalmon, lightseagreen,\n",
    "            lightskyblue, lightslategray, lightslategrey,\n",
    "            lightsteelblue, lightyellow, lime, limegreen,\n",
    "            linen, magenta, maroon, mediumaquamarine,\n",
    "            mediumblue, mediumorchid, mediumpurple,\n",
    "            mediumseagreen, mediumslateblue, mediumspringgreen,\n",
    "            mediumturquoise, mediumvioletred, midnightblue,\n",
    "            mintcream, mistyrose, moccasin, navajowhite, navy,\n",
    "            oldlace, olive, olivedrab, orange, orangered,\n",
    "            orchid, palegoldenrod, palegreen, paleturquoise,\n",
    "            palevioletred, papayawhip, peachpuff, peru, pink,\n",
    "            plum, powderblue, purple, red, rosybrown,\n",
    "            royalblue, rebeccapurple, saddlebrown, salmon,\n",
    "            sandybrown, seagreen, seashell, sienna, silver,\n",
    "            skyblue, slateblue, slategray, slategrey, snow,\n",
    "            springgreen, steelblue, tan, teal, thistle, tomato,\n",
    "            turquoise, violet, wheat, white, whitesmoke,\n",
    "            yellow, yellowgreen"
   ]
  }
 ],
 "metadata": {
  "kernelspec": {
   "display_name": "Python 3",
   "language": "python",
   "name": "python3"
  },
  "language_info": {
   "codemirror_mode": {
    "name": "ipython",
    "version": 3
   },
   "file_extension": ".py",
   "mimetype": "text/x-python",
   "name": "python",
   "nbconvert_exporter": "python",
   "pygments_lexer": "ipython3",
   "version": "3.6.2"
  }
 },
 "nbformat": 4,
 "nbformat_minor": 4
}
